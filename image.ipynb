{
 "cells": [
  {
   "cell_type": "code",
   "execution_count": 1,
   "id": "09f4fceb",
   "metadata": {},
   "outputs": [],
   "source": [
    "import cv2\n"
   ]
  },
  {
   "cell_type": "code",
   "execution_count": 2,
   "id": "ac39114a",
   "metadata": {},
   "outputs": [],
   "source": [
    "capt = cv2.VideoCapture(0)\n"
   ]
  },
  {
   "cell_type": "code",
   "execution_count": 3,
   "id": "5c292014",
   "metadata": {},
   "outputs": [],
   "source": [
    "ret,photo=capt.read()"
   ]
  },
  {
   "cell_type": "code",
   "execution_count": 4,
   "id": "d0b275b0",
   "metadata": {},
   "outputs": [
    {
     "data": {
      "text/plain": [
       "True"
      ]
     },
     "execution_count": 4,
     "metadata": {},
     "output_type": "execute_result"
    }
   ],
   "source": [
    "cv2.imwrite(\"my.jpg\",photo)"
   ]
  },
  {
   "cell_type": "markdown",
   "id": "3d2f828c",
   "metadata": {},
   "source": []
  },
  {
   "cell_type": "code",
   "execution_count": 5,
   "id": "3fdcd808",
   "metadata": {},
   "outputs": [],
   "source": [
    "capt.release()"
   ]
  },
  {
   "cell_type": "code",
   "execution_count": 6,
   "id": "a508b62b",
   "metadata": {},
   "outputs": [],
   "source": [
    "cv2.imshow(\"my.jpg\",photo)\n",
    "cv2.waitKey(10)\n",
    "cv2.destroyAllWindows()"
   ]
  },
  {
   "cell_type": "code",
   "execution_count": null,
   "id": "0999a9b4",
   "metadata": {},
   "outputs": [],
   "source": []
  }
 ],
 "metadata": {
  "kernelspec": {
   "display_name": "Python 3",
   "language": "python",
   "name": "python3"
  },
  "language_info": {
   "codemirror_mode": {
    "name": "ipython",
    "version": 3
   },
   "file_extension": ".py",
   "mimetype": "text/x-python",
   "name": "python",
   "nbconvert_exporter": "python",
   "pygments_lexer": "ipython3",
   "version": "3.8.8"
  }
 },
 "nbformat": 4,
 "nbformat_minor": 5
}
