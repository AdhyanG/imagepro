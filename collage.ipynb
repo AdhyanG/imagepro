{
 "cells": [
  {
   "cell_type": "code",
   "execution_count": 25,
   "id": "12ac495d",
   "metadata": {},
   "outputs": [],
   "source": [
    "import cv2"
   ]
  },
  {
   "cell_type": "code",
   "execution_count": 26,
   "id": "bfaded43",
   "metadata": {},
   "outputs": [],
   "source": [
    "import numpy as np"
   ]
  },
  {
   "cell_type": "code",
   "execution_count": 27,
   "id": "4f6e1d8b",
   "metadata": {},
   "outputs": [],
   "source": [
    "lionel=cv2.imread(\"messiarg.jpg\")"
   ]
  },
  {
   "cell_type": "code",
   "execution_count": 28,
   "id": "6e96ed57",
   "metadata": {},
   "outputs": [],
   "source": [
    "cv2.imshow(\"g1\",lionel)\n",
    "cv2.waitKey()\n",
    "cv2.destroyAllWindows()\n"
   ]
  },
  {
   "cell_type": "code",
   "execution_count": 29,
   "id": "ad967d9e",
   "metadata": {},
   "outputs": [
    {
     "data": {
      "text/plain": [
       "(903, 507, 3)"
      ]
     },
     "execution_count": 29,
     "metadata": {},
     "output_type": "execute_result"
    }
   ],
   "source": [
    "lionel.shape"
   ]
  },
  {
   "cell_type": "code",
   "execution_count": 30,
   "id": "b69b867e",
   "metadata": {},
   "outputs": [],
   "source": [
    "messi=cv2.imread(\"messibarc.jpg\")"
   ]
  },
  {
   "cell_type": "code",
   "execution_count": 31,
   "id": "a7ba6391",
   "metadata": {},
   "outputs": [],
   "source": [
    "cv2.imshow(\"g2\",messi)\n",
    "cv2.waitKey()\n",
    "cv2.destroyAllWindows()\n"
   ]
  },
  {
   "cell_type": "code",
   "execution_count": 32,
   "id": "e370772b",
   "metadata": {},
   "outputs": [
    {
     "data": {
      "text/plain": [
       "(444, 710, 3)"
      ]
     },
     "execution_count": 32,
     "metadata": {},
     "output_type": "execute_result"
    }
   ],
   "source": [
    "messi.shape"
   ]
  },
  {
   "cell_type": "code",
   "execution_count": 33,
   "id": "b24a2741",
   "metadata": {},
   "outputs": [],
   "source": [
    "lionel=lionel[:444, :507]"
   ]
  },
  {
   "cell_type": "code",
   "execution_count": 34,
   "id": "58f97af6",
   "metadata": {},
   "outputs": [],
   "source": [
    "messi=messi[:444, :507]"
   ]
  },
  {
   "cell_type": "code",
   "execution_count": 35,
   "id": "45bf013e",
   "metadata": {},
   "outputs": [],
   "source": [
    "new_image=np.concatenate((lionel,messi),axis=1)"
   ]
  },
  {
   "cell_type": "code",
   "execution_count": 36,
   "id": "a4fe9acf",
   "metadata": {},
   "outputs": [],
   "source": [
    "cv2.imshow(\"e1\",new_image)\n",
    "cv2.waitKey()\n",
    "cv2.destroyAllWindows()\n"
   ]
  },
  {
   "cell_type": "code",
   "execution_count": null,
   "id": "4778d979",
   "metadata": {},
   "outputs": [],
   "source": []
  }
 ],
 "metadata": {
  "kernelspec": {
   "display_name": "Python 3",
   "language": "python",
   "name": "python3"
  },
  "language_info": {
   "codemirror_mode": {
    "name": "ipython",
    "version": 3
   },
   "file_extension": ".py",
   "mimetype": "text/x-python",
   "name": "python",
   "nbconvert_exporter": "python",
   "pygments_lexer": "ipython3",
   "version": "3.8.8"
  }
 },
 "nbformat": 4,
 "nbformat_minor": 5
}
