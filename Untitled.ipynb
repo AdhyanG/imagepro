{
 "cells": [
  {
   "cell_type": "code",
   "execution_count": 1,
   "id": "0d395d7c",
   "metadata": {},
   "outputs": [],
   "source": [
    "import cv2"
   ]
  },
  {
   "cell_type": "code",
   "execution_count": 2,
   "id": "c3006778",
   "metadata": {},
   "outputs": [],
   "source": [
    "import numpy as np"
   ]
  },
  {
   "cell_type": "code",
   "execution_count": 4,
   "id": "9386d344",
   "metadata": {},
   "outputs": [],
   "source": [
    "earth=cv2.imread(\"earth.jpg\")"
   ]
  },
  {
   "cell_type": "code",
   "execution_count": 6,
   "id": "fc2bdfdf",
   "metadata": {},
   "outputs": [
    {
     "data": {
      "text/plain": [
       "(410, 410, 3)"
      ]
     },
     "execution_count": 6,
     "metadata": {},
     "output_type": "execute_result"
    }
   ],
   "source": [
    "earth.shape"
   ]
  },
  {
   "cell_type": "code",
   "execution_count": 7,
   "id": "182362ea",
   "metadata": {},
   "outputs": [],
   "source": [
    "mars=cv2.imread(\"mars.jpg\")"
   ]
  },
  {
   "cell_type": "code",
   "execution_count": 8,
   "id": "f3370800",
   "metadata": {},
   "outputs": [
    {
     "data": {
      "text/plain": [
       "(280, 462, 3)"
      ]
     },
     "execution_count": 8,
     "metadata": {},
     "output_type": "execute_result"
    }
   ],
   "source": [
    "mars.shape"
   ]
  },
  {
   "cell_type": "code",
   "execution_count": 12,
   "id": "3c0c6355",
   "metadata": {},
   "outputs": [],
   "source": [
    "earth=earth[:240,:400]"
   ]
  },
  {
   "cell_type": "code",
   "execution_count": 13,
   "id": "d293f561",
   "metadata": {},
   "outputs": [],
   "source": [
    "mars=mars[:240,:400]"
   ]
  },
  {
   "cell_type": "code",
   "execution_count": 14,
   "id": "8ae19b65",
   "metadata": {},
   "outputs": [],
   "source": [
    "new_image=np.concatenate((earth,mars),axis=1)"
   ]
  },
  {
   "cell_type": "code",
   "execution_count": 15,
   "id": "ed1b4558",
   "metadata": {},
   "outputs": [],
   "source": [
    "cv2.imshow(\"e1\",new_image)\n",
    "cv2.waitKey()\n",
    "cv2.destroyAllWindows()"
   ]
  },
  {
   "cell_type": "code",
   "execution_count": null,
   "id": "face74dc",
   "metadata": {},
   "outputs": [],
   "source": []
  }
 ],
 "metadata": {
  "kernelspec": {
   "display_name": "Python 3",
   "language": "python",
   "name": "python3"
  },
  "language_info": {
   "codemirror_mode": {
    "name": "ipython",
    "version": 3
   },
   "file_extension": ".py",
   "mimetype": "text/x-python",
   "name": "python",
   "nbconvert_exporter": "python",
   "pygments_lexer": "ipython3",
   "version": "3.8.8"
  }
 },
 "nbformat": 4,
 "nbformat_minor": 5
}
