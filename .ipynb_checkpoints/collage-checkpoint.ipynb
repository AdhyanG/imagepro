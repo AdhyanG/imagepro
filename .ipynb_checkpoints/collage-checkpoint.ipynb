{
 "cells": [
  {
   "cell_type": "code",
   "execution_count": 5,
   "id": "12ac495d",
   "metadata": {},
   "outputs": [],
   "source": [
    "import cv2"
   ]
  },
  {
   "cell_type": "code",
   "execution_count": 6,
   "id": "bfaded43",
   "metadata": {},
   "outputs": [],
   "source": [
    "import numpy as np"
   ]
  },
  {
   "cell_type": "code",
   "execution_count": 7,
   "id": "4f6e1d8b",
   "metadata": {},
   "outputs": [],
   "source": [
    "lionel=cv2.imread(\"messiarg.jpg\")"
   ]
  },
  {
   "cell_type": "code",
   "execution_count": 8,
   "id": "ad967d9e",
   "metadata": {},
   "outputs": [
    {
     "data": {
      "text/plain": [
       "(903, 507, 3)"
      ]
     },
     "execution_count": 8,
     "metadata": {},
     "output_type": "execute_result"
    }
   ],
   "source": [
    "lionel.shape"
   ]
  },
  {
   "cell_type": "code",
   "execution_count": 9,
   "id": "b69b867e",
   "metadata": {},
   "outputs": [],
   "source": [
    "messi=cv2.imread(\"messibarc.jpg\")"
   ]
  },
  {
   "cell_type": "code",
   "execution_count": 10,
   "id": "e370772b",
   "metadata": {},
   "outputs": [
    {
     "data": {
      "text/plain": [
       "(444, 710, 3)"
      ]
     },
     "execution_count": 10,
     "metadata": {},
     "output_type": "execute_result"
    }
   ],
   "source": [
    "messi.shape"
   ]
  },
  {
   "cell_type": "code",
   "execution_count": 11,
   "id": "b24a2741",
   "metadata": {},
   "outputs": [],
   "source": [
    "lionel=lionel[:444, :507]"
   ]
  },
  {
   "cell_type": "code",
   "execution_count": 12,
   "id": "58f97af6",
   "metadata": {},
   "outputs": [],
   "source": [
    "messi=messi[:444, :507]"
   ]
  },
  {
   "cell_type": "code",
   "execution_count": 13,
   "id": "45bf013e",
   "metadata": {},
   "outputs": [],
   "source": [
    "new_image=np.concatenate((lionel,messi),axis=1)"
   ]
  },
  {
   "cell_type": "code",
   "execution_count": 14,
   "id": "a4fe9acf",
   "metadata": {},
   "outputs": [],
   "source": [
    "cv2.imshow(\"g1\",new_image)\n",
    "cv2.waitKey()\n",
    "cv2.destroyAllWindows()\n"
   ]
  }
 ],
 "metadata": {
  "kernelspec": {
   "display_name": "Python 3",
   "language": "python",
   "name": "python3"
  },
  "language_info": {
   "codemirror_mode": {
    "name": "ipython",
    "version": 3
   },
   "file_extension": ".py",
   "mimetype": "text/x-python",
   "name": "python",
   "nbconvert_exporter": "python",
   "pygments_lexer": "ipython3",
   "version": "3.8.8"
  }
 },
 "nbformat": 4,
 "nbformat_minor": 5
}
