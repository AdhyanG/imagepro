{
 "cells": [
  {
   "cell_type": "code",
   "execution_count": 16,
   "id": "1147628c",
   "metadata": {},
   "outputs": [],
   "source": [
    "import cv2\n"
   ]
  },
  {
   "cell_type": "code",
   "execution_count": 17,
   "id": "f81b62ac",
   "metadata": {},
   "outputs": [],
   "source": [
    "import numpy as np"
   ]
  },
  {
   "cell_type": "code",
   "execution_count": 18,
   "id": "474e6d94",
   "metadata": {},
   "outputs": [],
   "source": [
    "array_create=np.zeros([300,300,3], dtype=np.uint8)"
   ]
  },
  {
   "cell_type": "code",
   "execution_count": 27,
   "id": "e29ee071",
   "metadata": {},
   "outputs": [],
   "source": [
    "array_create[:50, :50]=[0, 0, 0]\n",
    "array_create[50:100,50:100]=[255,255,255]\n",
    "array_create[50:100,200:250]=[255,255,255]\n",
    "array_create[200:300,100:200]=[255,255,255]\n",
    "array_create[220:300,120:130]=[0,0,255]\n",
    "array_create[220:300,170:180]=[0,0,255]\n",
    "array_create[220:300,130:170]=[0,0,255]"
   ]
  },
  {
   "cell_type": "code",
   "execution_count": 28,
   "id": "694d1daf",
   "metadata": {},
   "outputs": [],
   "source": [
    "cv2.imshow(\"adhyan\",array_create)\n",
    "cv2.waitKey()\n",
    "cv2.destroyAllWindows()"
   ]
  },
  {
   "cell_type": "code",
   "execution_count": null,
   "id": "6a2f8f5d",
   "metadata": {},
   "outputs": [],
   "source": []
  },
  {
   "cell_type": "code",
   "execution_count": null,
   "id": "27b805c1",
   "metadata": {},
   "outputs": [],
   "source": []
  },
  {
   "cell_type": "code",
   "execution_count": null,
   "id": "d54f0f82",
   "metadata": {},
   "outputs": [],
   "source": []
  },
  {
   "cell_type": "code",
   "execution_count": null,
   "id": "b894309e",
   "metadata": {},
   "outputs": [],
   "source": []
  }
 ],
 "metadata": {
  "kernelspec": {
   "display_name": "Python 3",
   "language": "python",
   "name": "python3"
  },
  "language_info": {
   "codemirror_mode": {
    "name": "ipython",
    "version": 3
   },
   "file_extension": ".py",
   "mimetype": "text/x-python",
   "name": "python",
   "nbconvert_exporter": "python",
   "pygments_lexer": "ipython3",
   "version": "3.8.8"
  }
 },
 "nbformat": 4,
 "nbformat_minor": 5
}
