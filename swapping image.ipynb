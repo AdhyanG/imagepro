{
 "cells": [
  {
   "cell_type": "code",
   "execution_count": 32,
   "id": "b9bb6d9e",
   "metadata": {},
   "outputs": [],
   "source": [
    "import cv2"
   ]
  },
  {
   "cell_type": "code",
   "execution_count": 33,
   "id": "3f1a5fe1",
   "metadata": {},
   "outputs": [],
   "source": [
    "import numpy as np"
   ]
  },
  {
   "cell_type": "code",
   "execution_count": 34,
   "id": "51b56b9e",
   "metadata": {},
   "outputs": [],
   "source": [
    "bigbang=cv2.imread(\"bigbang.jpg\")"
   ]
  },
  {
   "cell_type": "code",
   "execution_count": 35,
   "id": "e8873db9",
   "metadata": {},
   "outputs": [],
   "source": [
    "cv2.imshow(\"g1\",bigbang)\n",
    "cv2.waitKey()\n",
    "cv2.destroyAllWindows()\n",
    "    "
   ]
  },
  {
   "cell_type": "code",
   "execution_count": 36,
   "id": "96017f4d",
   "metadata": {},
   "outputs": [
    {
     "data": {
      "text/plain": [
       "(438, 780, 3)"
      ]
     },
     "execution_count": 36,
     "metadata": {},
     "output_type": "execute_result"
    }
   ],
   "source": [
    "bigbang.shape"
   ]
  },
  {
   "cell_type": "code",
   "execution_count": 37,
   "id": "73a74c15",
   "metadata": {},
   "outputs": [],
   "source": [
    "office=cv2.imread(\"office.jpg\")"
   ]
  },
  {
   "cell_type": "code",
   "execution_count": 38,
   "id": "544d4423",
   "metadata": {},
   "outputs": [],
   "source": [
    "cv2.imshow(\"g2\",office)\n",
    "cv2.waitKey()\n",
    "cv2.destroyAllWindows()"
   ]
  },
  {
   "cell_type": "code",
   "execution_count": 39,
   "id": "6751e5af",
   "metadata": {},
   "outputs": [
    {
     "data": {
      "text/plain": [
       "(368, 271, 3)"
      ]
     },
     "execution_count": 39,
     "metadata": {},
     "output_type": "execute_result"
    }
   ],
   "source": [
    "office.shape\n"
   ]
  },
  {
   "cell_type": "code",
   "execution_count": 40,
   "id": "4e50a1c4",
   "metadata": {},
   "outputs": [],
   "source": [
    "bigbang[:100,100:370]=office[200:300,:270]"
   ]
  },
  {
   "cell_type": "code",
   "execution_count": 41,
   "id": "9520892d",
   "metadata": {},
   "outputs": [],
   "source": [
    "office[200:300,:270]=bigbang[198:298,200:470]"
   ]
  },
  {
   "cell_type": "code",
   "execution_count": 42,
   "id": "9c9c55bc",
   "metadata": {},
   "outputs": [],
   "source": [
    "cv2.imshow(\"e1\",bigbang)\n",
    "cv2.waitKey()\n",
    "cv2.destroyAllWindows()"
   ]
  },
  {
   "cell_type": "code",
   "execution_count": 43,
   "id": "d7e8a1a3",
   "metadata": {},
   "outputs": [],
   "source": [
    "cv2.imshow(\"e2\",office)\n",
    "cv2.waitKey()\n",
    "cv2.destroyAllWindows()"
   ]
  },
  {
   "cell_type": "code",
   "execution_count": null,
   "id": "41a9b5af",
   "metadata": {},
   "outputs": [],
   "source": []
  },
  {
   "cell_type": "code",
   "execution_count": null,
   "id": "ac9ed97b",
   "metadata": {},
   "outputs": [],
   "source": []
  },
  {
   "cell_type": "code",
   "execution_count": null,
   "id": "5377f5df",
   "metadata": {},
   "outputs": [],
   "source": []
  },
  {
   "cell_type": "code",
   "execution_count": null,
   "id": "d6a03d3d",
   "metadata": {},
   "outputs": [],
   "source": []
  },
  {
   "cell_type": "code",
   "execution_count": null,
   "id": "1fcb1f16",
   "metadata": {},
   "outputs": [],
   "source": []
  },
  {
   "cell_type": "code",
   "execution_count": null,
   "id": "bfe629cd",
   "metadata": {},
   "outputs": [],
   "source": []
  },
  {
   "cell_type": "markdown",
   "id": "eb47aa63",
   "metadata": {},
   "source": []
  }
 ],
 "metadata": {
  "kernelspec": {
   "display_name": "Python 3",
   "language": "python",
   "name": "python3"
  },
  "language_info": {
   "codemirror_mode": {
    "name": "ipython",
    "version": 3
   },
   "file_extension": ".py",
   "mimetype": "text/x-python",
   "name": "python",
   "nbconvert_exporter": "python",
   "pygments_lexer": "ipython3",
   "version": "3.8.8"
  }
 },
 "nbformat": 4,
 "nbformat_minor": 5
}
